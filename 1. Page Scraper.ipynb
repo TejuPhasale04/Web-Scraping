{
 "cells": [
  {
   "cell_type": "code",
   "execution_count": 1,
   "id": "479d5a20",
   "metadata": {},
   "outputs": [],
   "source": [
    "import requests"
   ]
  },
  {
   "cell_type": "code",
   "execution_count": 2,
   "id": "c5be034b",
   "metadata": {},
   "outputs": [],
   "source": [
    "link='https://quotes.toscrape.com/'\n",
    "res=requests.get(link)"
   ]
  },
  {
   "cell_type": "code",
   "execution_count": 3,
   "id": "59970695",
   "metadata": {},
   "outputs": [],
   "source": [
    "html=res.text"
   ]
  },
  {
   "cell_type": "code",
   "execution_count": 4,
   "id": "5d6f936a",
   "metadata": {},
   "outputs": [
    {
     "data": {
      "text/plain": [
       "11021"
      ]
     },
     "execution_count": 4,
     "metadata": {},
     "output_type": "execute_result"
    }
   ],
   "source": [
    "fd=open('main.html','w',encoding='utf-8')\n",
    "fd.write(html)"
   ]
  },
  {
   "cell_type": "code",
   "execution_count": null,
   "id": "214ca7ca",
   "metadata": {},
   "outputs": [],
   "source": []
  }
 ],
 "metadata": {
  "kernelspec": {
   "display_name": "Python 3 (ipykernel)",
   "language": "python",
   "name": "python3"
  },
  "language_info": {
   "codemirror_mode": {
    "name": "ipython",
    "version": 3
   },
   "file_extension": ".py",
   "mimetype": "text/x-python",
   "name": "python",
   "nbconvert_exporter": "python",
   "pygments_lexer": "ipython3",
   "version": "3.11.7"
  }
 },
 "nbformat": 4,
 "nbformat_minor": 5
}
