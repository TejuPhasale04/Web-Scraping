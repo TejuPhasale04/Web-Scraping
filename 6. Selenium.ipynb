{
 "cells": [
  {
   "cell_type": "code",
   "execution_count": 9,
   "id": "e21513b7",
   "metadata": {},
   "outputs": [],
   "source": [
    "from selenium import webdriver\n",
    "import chromedriver_binary\n",
    "from selenium.webdriver.chrome.service import Service"
   ]
  },
  {
   "cell_type": "code",
   "execution_count": 10,
   "id": "e35bae5d",
   "metadata": {},
   "outputs": [
    {
     "data": {
      "text/plain": [
       "'C:\\\\Users\\\\DELL\\\\anaconda3\\\\Lib\\\\site-packages\\\\chromedriver_binary\\\\chromedriver.exe'"
      ]
     },
     "execution_count": 10,
     "metadata": {},
     "output_type": "execute_result"
    }
   ],
   "source": [
    "chromedriver_binary.chromedriver_filename"
   ]
  },
  {
   "cell_type": "code",
   "execution_count": 13,
   "id": "53d96845",
   "metadata": {},
   "outputs": [],
   "source": [
    "import chromedriver_binary  # This should add chromedriver to your PATH automatically\n",
    "\n",
    "# Use the service with chromedriver_binary\n",
    "service = Service(chromedriver_binary.chromedriver_filename)\n",
    "driver = webdriver.Chrome(service=service)\n",
    "\n",
    "# Open a page to test\n",
    "driver.get(\"https://www.youtube.com/watch?v=XI5_nsClCYI&t=115s\")"
   ]
  },
  {
   "cell_type": "code",
   "execution_count": null,
   "id": "b2734416",
   "metadata": {},
   "outputs": [],
   "source": []
  }
 ],
 "metadata": {
  "kernelspec": {
   "display_name": "Python 3 (ipykernel)",
   "language": "python",
   "name": "python3"
  },
  "language_info": {
   "codemirror_mode": {
    "name": "ipython",
    "version": 3
   },
   "file_extension": ".py",
   "mimetype": "text/x-python",
   "name": "python",
   "nbconvert_exporter": "python",
   "pygments_lexer": "ipython3",
   "version": "3.11.7"
  }
 },
 "nbformat": 4,
 "nbformat_minor": 5
}
